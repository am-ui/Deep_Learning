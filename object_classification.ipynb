{
  "nbformat": 4,
  "nbformat_minor": 0,
  "metadata": {
    "colab": {
      "name": "object_classification.ipynb",
      "provenance": []
    },
    "kernelspec": {
      "name": "python3",
      "display_name": "Python 3"
    },
    "language_info": {
      "name": "python"
    },
    "accelerator": "GPU"
  },
  "cells": [
    {
      "cell_type": "code",
      "metadata": {
        "id": "Ix7LNS2GL-jG"
      },
      "source": [
        "#import the important library\n",
        "import pandas as pd\n",
        "import numpy as np\n",
        "import tensorflow\n",
        "import matplotlib.pyplot as plt\n",
        "import seaborn as sns\n",
        "from tensorflow.keras import layers, datasets, models"
      ],
      "execution_count": 1,
      "outputs": []
    },
    {
      "cell_type": "code",
      "metadata": {
        "colab": {
          "base_uri": "https://localhost:8080/"
        },
        "id": "rF9ol8zcNRVU",
        "outputId": "cc931504-8129-43a2-8028-3396e00025d2"
      },
      "source": [
        "#load the datasets\n",
        "(X_train, y_train), (X_test, y_test) = datasets.cifar10.load_data()"
      ],
      "execution_count": 2,
      "outputs": [
        {
          "output_type": "stream",
          "text": [
            "Downloading data from https://www.cs.toronto.edu/~kriz/cifar-10-python.tar.gz\n",
            "170500096/170498071 [==============================] - 2s 0us/step\n"
          ],
          "name": "stdout"
        }
      ]
    },
    {
      "cell_type": "code",
      "metadata": {
        "colab": {
          "base_uri": "https://localhost:8080/"
        },
        "id": "T3QFr1xJOav6",
        "outputId": "9392d99a-b173-4e60-ba62-0703c94a684c"
      },
      "source": [
        "#print the shape of the X_train\n",
        "X_train.shape"
      ],
      "execution_count": 3,
      "outputs": [
        {
          "output_type": "execute_result",
          "data": {
            "text/plain": [
              "(50000, 32, 32, 3)"
            ]
          },
          "metadata": {
            "tags": []
          },
          "execution_count": 3
        }
      ]
    },
    {
      "cell_type": "code",
      "metadata": {
        "colab": {
          "base_uri": "https://localhost:8080/"
        },
        "id": "yDJvauv2OidC",
        "outputId": "59aa42e6-9684-4181-8f84-c7fc5821ba70"
      },
      "source": [
        "#print shape of X_test\n",
        "X_test.shape"
      ],
      "execution_count": 4,
      "outputs": [
        {
          "output_type": "execute_result",
          "data": {
            "text/plain": [
              "(10000, 32, 32, 3)"
            ]
          },
          "metadata": {
            "tags": []
          },
          "execution_count": 4
        }
      ]
    },
    {
      "cell_type": "code",
      "metadata": {
        "colab": {
          "base_uri": "https://localhost:8080/"
        },
        "id": "ZFgBmDEbPAjS",
        "outputId": "9c9cf908-4333-4428-9f99-3327e6df6705"
      },
      "source": [
        "#print first value X_train\n",
        "X_train[0]"
      ],
      "execution_count": 5,
      "outputs": [
        {
          "output_type": "execute_result",
          "data": {
            "text/plain": [
              "array([[[ 59,  62,  63],\n",
              "        [ 43,  46,  45],\n",
              "        [ 50,  48,  43],\n",
              "        ...,\n",
              "        [158, 132, 108],\n",
              "        [152, 125, 102],\n",
              "        [148, 124, 103]],\n",
              "\n",
              "       [[ 16,  20,  20],\n",
              "        [  0,   0,   0],\n",
              "        [ 18,   8,   0],\n",
              "        ...,\n",
              "        [123,  88,  55],\n",
              "        [119,  83,  50],\n",
              "        [122,  87,  57]],\n",
              "\n",
              "       [[ 25,  24,  21],\n",
              "        [ 16,   7,   0],\n",
              "        [ 49,  27,   8],\n",
              "        ...,\n",
              "        [118,  84,  50],\n",
              "        [120,  84,  50],\n",
              "        [109,  73,  42]],\n",
              "\n",
              "       ...,\n",
              "\n",
              "       [[208, 170,  96],\n",
              "        [201, 153,  34],\n",
              "        [198, 161,  26],\n",
              "        ...,\n",
              "        [160, 133,  70],\n",
              "        [ 56,  31,   7],\n",
              "        [ 53,  34,  20]],\n",
              "\n",
              "       [[180, 139,  96],\n",
              "        [173, 123,  42],\n",
              "        [186, 144,  30],\n",
              "        ...,\n",
              "        [184, 148,  94],\n",
              "        [ 97,  62,  34],\n",
              "        [ 83,  53,  34]],\n",
              "\n",
              "       [[177, 144, 116],\n",
              "        [168, 129,  94],\n",
              "        [179, 142,  87],\n",
              "        ...,\n",
              "        [216, 184, 140],\n",
              "        [151, 118,  84],\n",
              "        [123,  92,  72]]], dtype=uint8)"
            ]
          },
          "metadata": {
            "tags": []
          },
          "execution_count": 5
        }
      ]
    },
    {
      "cell_type": "code",
      "metadata": {
        "colab": {
          "base_uri": "https://localhost:8080/",
          "height": 283
        },
        "id": "1sBxEp38R9Xi",
        "outputId": "be616d2c-1676-4cce-8490-14a2498e2fe2"
      },
      "source": [
        "#plot the 2nd images of the X_train\n",
        "plt.imshow(X_train[1])"
      ],
      "execution_count": 6,
      "outputs": [
        {
          "output_type": "execute_result",
          "data": {
            "text/plain": [
              "<matplotlib.image.AxesImage at 0x7f15ca36f790>"
            ]
          },
          "metadata": {
            "tags": []
          },
          "execution_count": 6
        },
        {
          "output_type": "display_data",
          "data": {
            "image/png": "[encoded data removed]",
            "text/plain": [
              "<Figure size 432x288 with 1 Axes>"
            ]
          },
          "metadata": {
            "tags": [],
            "needs_background": "light"
          }
        }
      ]
    },
    {
      "cell_type": "code",
      "metadata": {
        "colab": {
          "base_uri": "https://localhost:8080/"
        },
        "id": "mgyniiD9SFa5",
        "outputId": "c0d92fe9-966b-48ad-ec85-410ea2279ce3"
      },
      "source": [
        "#plot the shape of the y_train\n",
        "y_train.shape"
      ],
      "execution_count": 7,
      "outputs": [
        {
          "output_type": "execute_result",
          "data": {
            "text/plain": [
              "(50000, 1)"
            ]
          },
          "metadata": {
            "tags": []
          },
          "execution_count": 7
        }
      ]
    },
    {
      "cell_type": "code",
      "metadata": {
        "colab": {
          "base_uri": "https://localhost:8080/"
        },
        "id": "XBh4LVHKSfES",
        "outputId": "a394f0b5-2bfe-41f1-99a0-01a14d5eebbd"
      },
      "source": [
        "#print the shape of the y_test\n",
        "y_test.shape"
      ],
      "execution_count": 8,
      "outputs": [
        {
          "output_type": "execute_result",
          "data": {
            "text/plain": [
              "(10000, 1)"
            ]
          },
          "metadata": {
            "tags": []
          },
          "execution_count": 8
        }
      ]
    },
    {
      "cell_type": "markdown",
      "metadata": {
        "id": "I4zW5WsoSoGU"
      },
      "source": [
        "We shaw that the size of y_train is 2D arrays , but we know that one array is enough for our classification problems.\n",
        "\n",
        "so convert the 2D arrays in 1D arrays"
      ]
    },
    {
      "cell_type": "code",
      "metadata": {
        "id": "EN8Oyju2ShhS"
      },
      "source": [
        "#reshape y_train in 1D array\n",
        "y_train = y_train.reshape(-1)"
      ],
      "execution_count": 9,
      "outputs": []
    },
    {
      "cell_type": "code",
      "metadata": {
        "colab": {
          "base_uri": "https://localhost:8080/"
        },
        "id": "bq6zAamVTRIS",
        "outputId": "2597b14c-43de-4ddb-f628-3466d257443e"
      },
      "source": [
        "#print the shape of the y_train\n",
        "y_train.shape"
      ],
      "execution_count": 10,
      "outputs": [
        {
          "output_type": "execute_result",
          "data": {
            "text/plain": [
              "(50000,)"
            ]
          },
          "metadata": {
            "tags": []
          },
          "execution_count": 10
        }
      ]
    },
    {
      "cell_type": "code",
      "metadata": {
        "id": "xuRj-r6JTUsC"
      },
      "source": [
        "#define the class \n",
        "classes = [\"airplane\",\"automobile\",\"bird\",\"cat\",\"deer\",\"dog\",\"frog\",\"horse\",\"ship\",\"truck\"]"
      ],
      "execution_count": 11,
      "outputs": []
    },
    {
      "cell_type": "code",
      "metadata": {
        "id": "dKIz6gNiTbzq"
      },
      "source": [
        "#plot the sample images\n",
        "def plot_sample(X, y, index):\n",
        "    plt.figure(figsize = (15,2)) # set the fig size\n",
        "    plt.imshow(X[index]) #define the index \n",
        "    plt.xlabel(classes[y[index]]) # plot the indexes on the images"
      ],
      "execution_count": 12,
      "outputs": []
    },
    {
      "cell_type": "code",
      "metadata": {
        "colab": {
          "base_uri": "https://localhost:8080/",
          "height": 173
        },
        "id": "UugsCeZ3UFVq",
        "outputId": "d070f3aa-7642-465c-d17b-8101a1e8b963"
      },
      "source": [
        "# plot the sample image at index 0 of the sample images\n",
        "plot_sample(X_train, y_train, 0) "
      ],
      "execution_count": 13,
      "outputs": [
        {
          "output_type": "display_data",
          "data": {
            "image/png": "[encoded data removed]",
            "text/plain": [
              "<Figure size 1080x144 with 1 Axes>"
            ]
          },
          "metadata": {
            "tags": [],
            "needs_background": "light"
          }
        }
      ]
    },
    {
      "cell_type": "code",
      "metadata": {
        "id": "Mb13Ngi2UWUS"
      },
      "source": [
        "#Normalize the X_train and X_test\n",
        "# for normalization divide the X_train and X_test by maximum number of the pixels\n",
        "# since we have maximum pixels is 255\n",
        "# so we divide X_train and X_test by 255\n",
        "X_train = X_train/255\n",
        "X_test = X_test /255"
      ],
      "execution_count": 14,
      "outputs": []
    },
    {
      "cell_type": "markdown",
      "metadata": {
        "id": "O9bzGHioenq_"
      },
      "source": [
        "#Create an ANN models "
      ]
    },
    {
      "cell_type": "code",
      "metadata": {
        "colab": {
          "base_uri": "https://localhost:8080/"
        },
        "id": "aqz0aZscUzsq",
        "outputId": "7427c87f-8814-46dd-d8ec-acb97b297da1"
      },
      "source": [
        "#create Artificial Neural Networks\n",
        "model = models.Sequential([\n",
        "        layers.Flatten(input_shape=(32,32,3)), # This is input Layers which is flatten which accept by shape(32,32,3)\n",
        "        layers.Dense(3000, activation='relu'), #hidden layers which having 30000 neurons\n",
        "        layers.Dense(1000, activation='relu'), #second hidden layers which having 1000 neurons \n",
        "        layers.Dense(10, activation='sigmoid')    #output layers which having 10 neurons becouse we have ten catogories\n",
        "    ])\n",
        "\n",
        "#complile the layers\n",
        "# categorical cross entropy means we select all output layers whenever we only one output but sparse categorical croosentropy select only one output layers which having output\n",
        "model.compile(optimizer='SGD',\n",
        "              loss='sparse_categorical_crossentropy',\n",
        "              metrics=['accuracy'])\n",
        "\n",
        "#train the models\n",
        "model.fit(X_train, y_train, epochs=5)"
      ],
      "execution_count": 15,
      "outputs": [
        {
          "output_type": "stream",
          "text": [
            "Epoch 1/5\n",
            "1563/1563 [==============================] - 8s 3ms/step - loss: 1.9245 - accuracy: 0.3088\n",
            "Epoch 2/5\n",
            "1563/1563 [==============================] - 5s 3ms/step - loss: 1.6405 - accuracy: 0.4236\n",
            "Epoch 3/5\n",
            "1563/1563 [==============================] - 5s 3ms/step - loss: 1.5535 - accuracy: 0.4550\n",
            "Epoch 4/5\n",
            "1563/1563 [==============================] - 5s 3ms/step - loss: 1.4839 - accuracy: 0.4745\n",
            "Epoch 5/5\n",
            "1563/1563 [==============================] - 5s 3ms/step - loss: 1.4363 - accuracy: 0.4930\n"
          ],
          "name": "stdout"
        },
        {
          "output_type": "execute_result",
          "data": {
            "text/plain": [
              "<tensorflow.python.keras.callbacks.History at 0x7f15c01ea050>"
            ]
          },
          "metadata": {
            "tags": []
          },
          "execution_count": 15
        }
      ]
    },
    {
      "cell_type": "markdown",
      "metadata": {
        "id": "v8DYucb8g1vP"
      },
      "source": [
        "Using ANN we can see that we very low Accuracy ,\n",
        "\n",
        "lets apply CNN"
      ]
    },
    {
      "cell_type": "code",
      "metadata": {
        "colab": {
          "base_uri": "https://localhost:8080/"
        },
        "id": "m2Vq8BuqVQ5C",
        "outputId": "74c5e924-fc0e-41a2-d354-8925d026763d"
      },
      "source": [
        "from sklearn.metrics import confusion_matrix , classification_report\n",
        "#predict the values\n",
        "y_pred = model.predict(X_test)\n",
        "y_pred_classes = [np.argmax(element) for element in y_pred]\n",
        "#plot the classification report\n",
        "print(\"Classification Report: \\n\", classification_report(y_test, y_pred_classes))"
      ],
      "execution_count": 16,
      "outputs": [
        {
          "output_type": "stream",
          "text": [
            "Classification Report: \n",
            "               precision    recall  f1-score   support\n",
            "\n",
            "           0       0.67      0.31      0.42      1000\n",
            "           1       0.67      0.46      0.55      1000\n",
            "           2       0.27      0.62      0.38      1000\n",
            "           3       0.44      0.17      0.25      1000\n",
            "           4       0.51      0.28      0.36      1000\n",
            "           5       0.42      0.35      0.38      1000\n",
            "           6       0.50      0.57      0.53      1000\n",
            "           7       0.61      0.50      0.55      1000\n",
            "           8       0.42      0.81      0.55      1000\n",
            "           9       0.56      0.51      0.54      1000\n",
            "\n",
            "    accuracy                           0.46     10000\n",
            "   macro avg       0.51      0.46      0.45     10000\n",
            "weighted avg       0.51      0.46      0.45     10000\n",
            "\n"
          ],
          "name": "stdout"
        }
      ]
    },
    {
      "cell_type": "markdown",
      "metadata": {
        "id": "NGQPJR5vhgoL"
      },
      "source": [
        "#Create A CNN Models"
      ]
    },
    {
      "cell_type": "code",
      "metadata": {
        "id": "-awilrNaWlly"
      },
      "source": [
        "cnn = models.Sequential([\n",
        "    layers.Conv2D(filters=32, kernel_size=(3, 3), activation='relu', input_shape=(32, 32, 3)),    #input layers , filter_size = 3*3, , \n",
        "    layers.MaxPooling2D((2, 2)),    #pooling is use to reduce the dimenssion of the images\n",
        "    \n",
        "    layers.Conv2D(filters=64, kernel_size=(3, 3), activation='relu'),  #input layers\n",
        "    layers.MaxPooling2D((2, 2)),\n",
        "    \n",
        "    layers.Flatten(),\n",
        "    layers.Dense(64, activation='relu'), #only one hidden layers\n",
        "    layers.Dense(10, activation='softmax') # output layers\n",
        "])"
      ],
      "execution_count": 20,
      "outputs": []
    },
    {
      "cell_type": "code",
      "metadata": {
        "id": "3UIvVO8qWzIh"
      },
      "source": [
        "#compile the models\n",
        "cnn.compile(optimizer='adam',\n",
        "              loss='sparse_categorical_crossentropy',\n",
        "              metrics=['accuracy'])\n"
      ],
      "execution_count": 21,
      "outputs": []
    },
    {
      "cell_type": "code",
      "metadata": {
        "colab": {
          "base_uri": "https://localhost:8080/"
        },
        "id": "wV3_WilbW4Xa",
        "outputId": "a1dd09da-735e-45e3-c815-5ca416ad5f25"
      },
      "source": [
        "#train the models\n",
        "model.fit(X_train, y_train, epochs=10)"
      ],
      "execution_count": 23,
      "outputs": [
        {
          "output_type": "stream",
          "text": [
            "Epoch 1/10\n",
            "1563/1563 [==============================] - 5s 3ms/step - loss: 1.3868 - accuracy: 0.5129\n",
            "Epoch 2/10\n",
            "1563/1563 [==============================] - 5s 3ms/step - loss: 1.3473 - accuracy: 0.5270\n",
            "Epoch 3/10\n",
            "1563/1563 [==============================] - 5s 3ms/step - loss: 1.3131 - accuracy: 0.5401\n",
            "Epoch 4/10\n",
            "1563/1563 [==============================] - 5s 3ms/step - loss: 1.2782 - accuracy: 0.5513\n",
            "Epoch 5/10\n",
            "1563/1563 [==============================] - 5s 3ms/step - loss: 1.2491 - accuracy: 0.5615\n",
            "Epoch 6/10\n",
            "1563/1563 [==============================] - 5s 3ms/step - loss: 1.2192 - accuracy: 0.5744\n",
            "Epoch 7/10\n",
            "1563/1563 [==============================] - 5s 3ms/step - loss: 1.1908 - accuracy: 0.5851\n",
            "Epoch 8/10\n",
            "1563/1563 [==============================] - 5s 3ms/step - loss: 1.1636 - accuracy: 0.5936\n",
            "Epoch 9/10\n",
            "1563/1563 [==============================] - 5s 3ms/step - loss: 1.1384 - accuracy: 0.6009\n",
            "Epoch 10/10\n",
            "1563/1563 [==============================] - 5s 3ms/step - loss: 1.1111 - accuracy: 0.6116\n"
          ],
          "name": "stdout"
        },
        {
          "output_type": "execute_result",
          "data": {
            "text/plain": [
              "<tensorflow.python.keras.callbacks.History at 0x7f1577f3c810>"
            ]
          },
          "metadata": {
            "tags": []
          },
          "execution_count": 23
        }
      ]
    },
    {
      "cell_type": "markdown",
      "metadata": {
        "id": "DPvDG5mBlRB2"
      },
      "source": [
        "we can see that our model's accuracy is not too much good so we again the models with 30 epochs"
      ]
    },
    {
      "cell_type": "code",
      "metadata": {
        "id": "IYsfn1bzYTDE"
      },
      "source": [
        "cnn = models.Sequential([\n",
        "    layers.Conv2D(filters=32, kernel_size=(3, 3), activation='relu', input_shape=(32, 32, 3)),\n",
        "    layers.MaxPooling2D((2, 2)),\n",
        "    \n",
        "    layers.Conv2D(filters=64, kernel_size=(3, 3), activation='relu'),\n",
        "    layers.MaxPooling2D((2, 2)),\n",
        "    \n",
        "    layers.Flatten(),\n",
        "    layers.Dense(64, activation='relu'),\n",
        "    layers.Dense(10, activation='softmax')\n",
        "])"
      ],
      "execution_count": 24,
      "outputs": []
    },
    {
      "cell_type": "code",
      "metadata": {
        "id": "BsqloA9hYV8U",
        "outputId": "e77abce1-8c92-46a2-a508-b7efda9aa737",
        "colab": {
          "base_uri": "https://localhost:8080/"
        }
      },
      "source": [
        "model.fit(X_train, y_train, epochs= 30)"
      ],
      "execution_count": 25,
      "outputs": [
        {
          "output_type": "stream",
          "text": [
            "Epoch 1/30\n",
            "1563/1563 [==============================] - 5s 3ms/step - loss: 1.0831 - accuracy: 0.6226\n",
            "Epoch 2/30\n",
            "1563/1563 [==============================] - 5s 3ms/step - loss: 1.0577 - accuracy: 0.6304\n",
            "Epoch 3/30\n",
            "1563/1563 [==============================] - 5s 3ms/step - loss: 1.0333 - accuracy: 0.6413\n",
            "Epoch 4/30\n",
            "1563/1563 [==============================] - 5s 3ms/step - loss: 1.0046 - accuracy: 0.6507\n",
            "Epoch 5/30\n",
            "1563/1563 [==============================] - 5s 3ms/step - loss: 0.9798 - accuracy: 0.6608\n",
            "Epoch 6/30\n",
            "1563/1563 [==============================] - 5s 3ms/step - loss: 0.9556 - accuracy: 0.6685\n",
            "Epoch 7/30\n",
            "1563/1563 [==============================] - 5s 3ms/step - loss: 0.9312 - accuracy: 0.6785\n",
            "Epoch 8/30\n",
            "1563/1563 [==============================] - 5s 3ms/step - loss: 0.9038 - accuracy: 0.6871\n",
            "Epoch 9/30\n",
            "1563/1563 [==============================] - 5s 3ms/step - loss: 0.8809 - accuracy: 0.6946\n",
            "Epoch 10/30\n",
            "1563/1563 [==============================] - 5s 3ms/step - loss: 0.8543 - accuracy: 0.7060\n",
            "Epoch 11/30\n",
            "1563/1563 [==============================] - 5s 3ms/step - loss: 0.8276 - accuracy: 0.7145\n",
            "Epoch 12/30\n",
            "1563/1563 [==============================] - 5s 3ms/step - loss: 0.8040 - accuracy: 0.7247\n",
            "Epoch 13/30\n",
            "1563/1563 [==============================] - 5s 3ms/step - loss: 0.7764 - accuracy: 0.7340\n",
            "Epoch 14/30\n",
            "1563/1563 [==============================] - 5s 3ms/step - loss: 0.7502 - accuracy: 0.7428\n",
            "Epoch 15/30\n",
            "1563/1563 [==============================] - 5s 3ms/step - loss: 0.7280 - accuracy: 0.7510\n",
            "Epoch 16/30\n",
            "1563/1563 [==============================] - 5s 3ms/step - loss: 0.7048 - accuracy: 0.7601\n",
            "Epoch 17/30\n",
            "1563/1563 [==============================] - 5s 3ms/step - loss: 0.6790 - accuracy: 0.7689\n",
            "Epoch 18/30\n",
            "1563/1563 [==============================] - 5s 3ms/step - loss: 0.6551 - accuracy: 0.7782\n",
            "Epoch 19/30\n",
            "1563/1563 [==============================] - 5s 3ms/step - loss: 0.6290 - accuracy: 0.7884\n",
            "Epoch 20/30\n",
            "1563/1563 [==============================] - 5s 3ms/step - loss: 0.6045 - accuracy: 0.7963\n",
            "Epoch 21/30\n",
            "1563/1563 [==============================] - 5s 3ms/step - loss: 0.5835 - accuracy: 0.8058\n",
            "Epoch 22/30\n",
            "1563/1563 [==============================] - 5s 3ms/step - loss: 0.5587 - accuracy: 0.8141\n",
            "Epoch 23/30\n",
            "1563/1563 [==============================] - 5s 3ms/step - loss: 0.5357 - accuracy: 0.8236\n",
            "Epoch 24/30\n",
            "1563/1563 [==============================] - 5s 3ms/step - loss: 0.5127 - accuracy: 0.8307\n",
            "Epoch 25/30\n",
            "1563/1563 [==============================] - 5s 3ms/step - loss: 0.4899 - accuracy: 0.8400\n",
            "Epoch 26/30\n",
            "1563/1563 [==============================] - 5s 3ms/step - loss: 0.4676 - accuracy: 0.8465\n",
            "Epoch 27/30\n",
            "1563/1563 [==============================] - 5s 3ms/step - loss: 0.4464 - accuracy: 0.8535\n",
            "Epoch 28/30\n",
            "1563/1563 [==============================] - 5s 3ms/step - loss: 0.4261 - accuracy: 0.8624\n",
            "Epoch 29/30\n",
            "1563/1563 [==============================] - 5s 3ms/step - loss: 0.4048 - accuracy: 0.8721\n",
            "Epoch 30/30\n",
            "1563/1563 [==============================] - 5s 3ms/step - loss: 0.3856 - accuracy: 0.8785\n"
          ],
          "name": "stdout"
        },
        {
          "output_type": "execute_result",
          "data": {
            "text/plain": [
              "<tensorflow.python.keras.callbacks.History at 0x7f1577eccf50>"
            ]
          },
          "metadata": {
            "tags": []
          },
          "execution_count": 25
        }
      ]
    },
    {
      "cell_type": "markdown",
      "metadata": {
        "id": "b8n7qvVlZIDF"
      },
      "source": [
        "Now we can see that we have 87% accuracy"
      ]
    },
    {
      "cell_type": "code",
      "metadata": {
        "id": "3VC4xCP5ZVxT"
      },
      "source": [
        "cnn.compile(optimizer='adam',\n",
        "              loss='sparse_categorical_crossentropy',\n",
        "              metrics=['accuracy'])"
      ],
      "execution_count": 27,
      "outputs": []
    },
    {
      "cell_type": "code",
      "metadata": {
        "id": "_RmOKCcaZlzk",
        "outputId": "0b1eef27-81d3-4d09-bf16-1d2f9b790f9d",
        "colab": {
          "base_uri": "https://localhost:8080/"
        }
      },
      "source": [
        "#evaluate the models\n",
        "cnn.evaluate(X_test,y_test)"
      ],
      "execution_count": 28,
      "outputs": [
        {
          "output_type": "stream",
          "text": [
            "313/313 [==============================] - 1s 2ms/step - loss: 2.3110 - accuracy: 0.1233\n"
          ],
          "name": "stdout"
        },
        {
          "output_type": "execute_result",
          "data": {
            "text/plain": [
              "[2.3127901554107666, 0.12160000205039978]"
            ]
          },
          "metadata": {
            "tags": []
          },
          "execution_count": 28
        }
      ]
    },
    {
      "cell_type": "code",
      "metadata": {
        "colab": {
          "base_uri": "https://localhost:8080/"
        },
        "id": "CTKBBPCDW8TC",
        "outputId": "1e2ff3cb-ad63-439b-975e-1658d77398db"
      },
      "source": [
        "#predict the values\n",
        "y_pred = cnn.predict(X_test)\n",
        "#print the first five predicted values\n",
        "y_pred[:5]"
      ],
      "execution_count": 29,
      "outputs": [
        {
          "output_type": "execute_result",
          "data": {
            "text/plain": [
              "array([[0.08757006, 0.09258561, 0.11041675, 0.10040266, 0.10709285,\n",
              "        0.08288677, 0.1195731 , 0.09570051, 0.09120599, 0.11256562],\n",
              "       [0.08133816, 0.09428383, 0.11498   , 0.0973837 , 0.09813489,\n",
              "        0.08061193, 0.12224884, 0.09880774, 0.0967763 , 0.11543468],\n",
              "       [0.08320301, 0.09320762, 0.1111811 , 0.10178874, 0.10844567,\n",
              "        0.08017576, 0.11685112, 0.09338659, 0.09461106, 0.11714932],\n",
              "       [0.08661428, 0.09178227, 0.11029088, 0.0946734 , 0.10339793,\n",
              "        0.08323788, 0.11843333, 0.09903479, 0.09405175, 0.11848345],\n",
              "       [0.08913495, 0.09465994, 0.10643774, 0.0921123 , 0.10019889,\n",
              "        0.0908652 , 0.11654619, 0.10122201, 0.09387495, 0.11494783]],\n",
              "      dtype=float32)"
            ]
          },
          "metadata": {
            "tags": []
          },
          "execution_count": 29
        }
      ]
    },
    {
      "cell_type": "code",
      "metadata": {
        "id": "74uAV__sZxIi",
        "outputId": "4917c3c9-bc3d-44c1-a98d-bc506d9d6222",
        "colab": {
          "base_uri": "https://localhost:8080/"
        }
      },
      "source": [
        "#convert the predicted values in to numbers\n",
        "y_classes = [np.argmax(element) for element in y_pred]\n",
        "y_classes[:5]"
      ],
      "execution_count": 30,
      "outputs": [
        {
          "output_type": "execute_result",
          "data": {
            "text/plain": [
              "[6, 6, 9, 9, 6]"
            ]
          },
          "metadata": {
            "tags": []
          },
          "execution_count": 30
        }
      ]
    },
    {
      "cell_type": "code",
      "metadata": {
        "id": "1GdKEbs5Z2_J",
        "outputId": "02af4f8d-aa49-4976-a106-a82d40bf35ff",
        "colab": {
          "base_uri": "https://localhost:8080/"
        }
      },
      "source": [
        "\n",
        "y_test[:5]"
      ],
      "execution_count": 31,
      "outputs": [
        {
          "output_type": "execute_result",
          "data": {
            "text/plain": [
              "array([[3],\n",
              "       [8],\n",
              "       [8],\n",
              "       [0],\n",
              "       [6]], dtype=uint8)"
            ]
          },
          "metadata": {
            "tags": []
          },
          "execution_count": 31
        }
      ]
    },
    {
      "cell_type": "code",
      "metadata": {
        "id": "1vV9N_QVZ61p",
        "outputId": "1eaa5bba-48a6-4462-eb45-180d9d5e013a",
        "colab": {
          "base_uri": "https://localhost:8080/",
          "height": 390
        }
      },
      "source": [
        "#plot the sample image at index 3\n",
        "plot_sample(X_test, y_test,3)"
      ],
      "execution_count": 32,
      "outputs": [
        {
          "output_type": "error",
          "ename": "TypeError",
          "evalue": "ignored",
          "traceback": [
            "\u001b[0;31m---------------------------------------------------------------------------\u001b[0m",
            "\u001b[0;31mTypeError\u001b[0m                                 Traceback (most recent call last)",
            "\u001b[0;32m<ipython-input-32-25b39c82e0d1>\u001b[0m in \u001b[0;36m<module>\u001b[0;34m()\u001b[0m\n\u001b[0;32m----> 1\u001b[0;31m \u001b[0mplot_sample\u001b[0m\u001b[0;34m(\u001b[0m\u001b[0mX_test\u001b[0m\u001b[0;34m,\u001b[0m \u001b[0my_test\u001b[0m\u001b[0;34m,\u001b[0m\u001b[0;36m3\u001b[0m\u001b[0;34m)\u001b[0m\u001b[0;34m\u001b[0m\u001b[0;34m\u001b[0m\u001b[0m\n\u001b[0m",
            "\u001b[0;32m<ipython-input-12-73f4cf12957f>\u001b[0m in \u001b[0;36mplot_sample\u001b[0;34m(X, y, index)\u001b[0m\n\u001b[1;32m      2\u001b[0m     \u001b[0mplt\u001b[0m\u001b[0;34m.\u001b[0m\u001b[0mfigure\u001b[0m\u001b[0;34m(\u001b[0m\u001b[0mfigsize\u001b[0m \u001b[0;34m=\u001b[0m \u001b[0;34m(\u001b[0m\u001b[0;36m15\u001b[0m\u001b[0;34m,\u001b[0m\u001b[0;36m2\u001b[0m\u001b[0;34m)\u001b[0m\u001b[0;34m)\u001b[0m\u001b[0;34m\u001b[0m\u001b[0;34m\u001b[0m\u001b[0m\n\u001b[1;32m      3\u001b[0m     \u001b[0mplt\u001b[0m\u001b[0;34m.\u001b[0m\u001b[0mimshow\u001b[0m\u001b[0;34m(\u001b[0m\u001b[0mX\u001b[0m\u001b[0;34m[\u001b[0m\u001b[0mindex\u001b[0m\u001b[0;34m]\u001b[0m\u001b[0;34m)\u001b[0m\u001b[0;34m\u001b[0m\u001b[0;34m\u001b[0m\u001b[0m\n\u001b[0;32m----> 4\u001b[0;31m     \u001b[0mplt\u001b[0m\u001b[0;34m.\u001b[0m\u001b[0mxlabel\u001b[0m\u001b[0;34m(\u001b[0m\u001b[0mclasses\u001b[0m\u001b[0;34m[\u001b[0m\u001b[0my\u001b[0m\u001b[0;34m[\u001b[0m\u001b[0mindex\u001b[0m\u001b[0;34m]\u001b[0m\u001b[0;34m]\u001b[0m\u001b[0;34m)\u001b[0m\u001b[0;34m\u001b[0m\u001b[0;34m\u001b[0m\u001b[0m\n\u001b[0m",
            "\u001b[0;31mTypeError\u001b[0m: only integer scalar arrays can be converted to a scalar index"
          ]
        },
        {
          "output_type": "display_data",
          "data": {
            "image/png": "[encoded data removed]",
            "text/plain": [
              "<Figure size 1080x144 with 1 Axes>"
            ]
          },
          "metadata": {
            "tags": [],
            "needs_background": "light"
          }
        }
      ]
    },
    {
      "cell_type": "code",
      "metadata": {
        "id": "2-I9yl4NZ_gB",
        "outputId": "35a7df1e-da9b-42dc-87a5-85813912f3f7",
        "colab": {
          "base_uri": "https://localhost:8080/",
          "height": 35
        }
      },
      "source": [
        "#print the predicted values at index 3\n",
        "classes[y_classes[3]]"
      ],
      "execution_count": 33,
      "outputs": [
        {
          "output_type": "execute_result",
          "data": {
            "application/vnd.google.colaboratory.intrinsic+json": {
              "type": "string"
            },
            "text/plain": [
              "'truck'"
            ]
          },
          "metadata": {
            "tags": []
          },
          "execution_count": 33
        }
      ]
    },
    {
      "cell_type": "code",
      "metadata": {
        "id": "dMLWQiG9aKJq"
      },
      "source": [
        ""
      ],
      "execution_count": null,
      "outputs": []
    }
  ]
}