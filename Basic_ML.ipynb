{
  "nbformat": 4,
  "nbformat_minor": 0,
  "metadata": {
    "colab": {
      "name": "Basic_ML.ipynb",
      "provenance": [],
      "collapsed_sections": []
    },
    "kernelspec": {
      "name": "python3",
      "display_name": "Python 3"
    },
    "accelerator": "GPU"
  },
  "cells": [
    {
      "cell_type": "code",
      "metadata": {
        "id": "2tdwIc-dfdX9"
      },
      "source": [
        "import tensorflow as tf"
      ],
      "execution_count": 7,
      "outputs": []
    },
    {
      "cell_type": "code",
      "metadata": {
        "id": "4DbAng-6y7GF"
      },
      "source": [
        "#load the datasets\r\n",
        "mnist=tf.keras.datasets.mnist"
      ],
      "execution_count": 8,
      "outputs": []
    },
    {
      "cell_type": "code",
      "metadata": {
        "colab": {
          "base_uri": "https://localhost:8080/"
        },
        "id": "ZdZ7FTrnz_1V",
        "outputId": "4320fc5e-7a03-4da5-f90f-1b5765544422"
      },
      "source": [
        "mnist"
      ],
      "execution_count": 9,
      "outputs": [
        {
          "output_type": "execute_result",
          "data": {
            "text/plain": [
              "<module 'tensorflow.keras.datasets.mnist' from '/usr/local/lib/python3.6/dist-packages/tensorflow/keras/datasets/mnist/__init__.py'>"
            ]
          },
          "metadata": {
            "tags": []
          },
          "execution_count": 9
        }
      ]
    },
    {
      "cell_type": "code",
      "metadata": {
        "colab": {
          "base_uri": "https://localhost:8080/"
        },
        "id": "g4M7NsQbzTOT",
        "outputId": "314901a5-a571-495b-cd98-0b09ef3746cb"
      },
      "source": [
        "#convert the data integer to float\r\n",
        "(x_train,y_train),(x_test,y_test)=mnist.load_data()"
      ],
      "execution_count": 10,
      "outputs": [
        {
          "output_type": "stream",
          "text": [
            "Downloading data from https://storage.googleapis.com/tensorflow/tf-keras-datasets/mnist.npz\n",
            "11493376/11490434 [==============================] - 0s 0us/step\n"
          ],
          "name": "stdout"
        }
      ]
    },
    {
      "cell_type": "code",
      "metadata": {
        "id": "yGfV9BzLzWMH"
      },
      "source": [
        "x_train,x_test=x_train/255.0,x_test/250"
      ],
      "execution_count": 11,
      "outputs": []
    },
    {
      "cell_type": "code",
      "metadata": {
        "id": "vMqsSzL6z-Zv"
      },
      "source": [
        "# Buid the models using sequentilas methods\r\n",
        "model=tf.keras.models.Sequential([tf.keras.layers.Flatten(input_shape=(28,28)),\r\n",
        "                                  tf.keras.layers.Dense(128,activation=('relu')),\r\n",
        "                                  tf.keras.layers.Dropout(0.2),\r\n",
        "                                  tf.keras.layers.Dense(10)])"
      ],
      "execution_count": 12,
      "outputs": []
    },
    {
      "cell_type": "code",
      "metadata": {
        "id": "VTVAFdBw7Fo9"
      },
      "source": [
        "#predict the models \r\n",
        "prediction=model(x_train[:1]).numpy()"
      ],
      "execution_count": 13,
      "outputs": []
    },
    {
      "cell_type": "code",
      "metadata": {
        "colab": {
          "base_uri": "https://localhost:8080/"
        },
        "id": "laVuK4zP7V32",
        "outputId": "26702f3e-31ba-4361-b1ba-49db8516f8cb"
      },
      "source": [
        "# this vector returns logit or log-odds class for each class\r\n",
        "prediction"
      ],
      "execution_count": 14,
      "outputs": [
        {
          "output_type": "execute_result",
          "data": {
            "text/plain": [
              "array([[ 0.16525224,  0.64273643,  1.2551597 ,  0.40475637, -0.3490131 ,\n",
              "        -1.1091768 , -0.46739128,  0.23398747,  0.41063288, -0.31989202]],\n",
              "      dtype=float32)"
            ]
          },
          "metadata": {
            "tags": []
          },
          "execution_count": 14
        }
      ]
    },
    {
      "cell_type": "code",
      "metadata": {
        "colab": {
          "base_uri": "https://localhost:8080/"
        },
        "id": "Q8bA8i5e7YHY",
        "outputId": "f8ccfe03-c9a6-4d24-8cc4-ef80c05835b0"
      },
      "source": [
        "#softmax optimizer convert the logits or log-odds into probabilities\r\n",
        "tf.nn.softmax(prediction).numpy()"
      ],
      "execution_count": 16,
      "outputs": [
        {
          "output_type": "execute_result",
          "data": {
            "text/plain": [
              "array([[0.08904548, 0.14354254, 0.26482117, 0.11314287, 0.05324383,\n",
              "        0.02489628, 0.04729969, 0.0953813 , 0.11380972, 0.05481715]],\n",
              "      dtype=float32)"
            ]
          },
          "metadata": {
            "tags": []
          },
          "execution_count": 16
        }
      ]
    },
    {
      "cell_type": "code",
      "metadata": {
        "id": "D89P-dgMtXU5"
      },
      "source": [
        "#Takes a vector of logits and true index and return a scaler loss of each vector\r\n",
        "loss_fn = tf.keras.losses.SparseCategoricalCrossentropy(from_logits=True)"
      ],
      "execution_count": 17,
      "outputs": []
    },
    {
      "cell_type": "code",
      "metadata": {
        "colab": {
          "base_uri": "https://localhost:8080/"
        },
        "id": "1WePYhAFte0Y",
        "outputId": "daf789d9-234c-4ee1-82a8-78677b2b2dbb"
      },
      "source": [
        "#print the loss vector\r\n",
        "loss_fn(y_train[:1], prediction).numpy()"
      ],
      "execution_count": 19,
      "outputs": [
        {
          "output_type": "execute_result",
          "data": {
            "text/plain": [
              "3.693037"
            ]
          },
          "metadata": {
            "tags": []
          },
          "execution_count": 19
        }
      ]
    },
    {
      "cell_type": "code",
      "metadata": {
        "id": "j_tf2C_Etkyq"
      },
      "source": [
        "# make the optimizer vector\r\n",
        "model.compile(optimizer='adam',\r\n",
        "              loss=loss_fn,\r\n",
        "              metrics=['accuracy'])"
      ],
      "execution_count": 20,
      "outputs": []
    },
    {
      "cell_type": "code",
      "metadata": {
        "colab": {
          "base_uri": "https://localhost:8080/"
        },
        "id": "Z3Vmg2QHtqUT",
        "outputId": "56dbe694-8240-4915-d17e-ff4f426eba69"
      },
      "source": [
        "# adjust the parameter and minimize the loss\r\n",
        "model.fit(x_train, y_train, epochs=5)"
      ],
      "execution_count": 21,
      "outputs": [
        {
          "output_type": "stream",
          "text": [
            "Epoch 1/5\n",
            "1875/1875 [==============================] - 3s 2ms/step - loss: 0.4743 - accuracy: 0.8615\n",
            "Epoch 2/5\n",
            "1875/1875 [==============================] - 3s 2ms/step - loss: 0.1514 - accuracy: 0.9546\n",
            "Epoch 3/5\n",
            "1875/1875 [==============================] - 3s 2ms/step - loss: 0.1073 - accuracy: 0.9674\n",
            "Epoch 4/5\n",
            "1875/1875 [==============================] - 3s 2ms/step - loss: 0.0881 - accuracy: 0.9715\n",
            "Epoch 5/5\n",
            "1875/1875 [==============================] - 4s 2ms/step - loss: 0.0769 - accuracy: 0.9760\n"
          ],
          "name": "stdout"
        },
        {
          "output_type": "execute_result",
          "data": {
            "text/plain": [
              "<tensorflow.python.keras.callbacks.History at 0x7fb51f810b00>"
            ]
          },
          "metadata": {
            "tags": []
          },
          "execution_count": 21
        }
      ]
    },
    {
      "cell_type": "code",
      "metadata": {
        "colab": {
          "base_uri": "https://localhost:8080/"
        },
        "id": "8oN8kS4Ltt7s",
        "outputId": "8ac84d56-8498-4208-900b-ea1690b4bc82"
      },
      "source": [
        "#Evaluate the models and print the accuracy\r\n",
        "model.evaluate(x_test,  y_test, verbose=2)"
      ],
      "execution_count": 22,
      "outputs": [
        {
          "output_type": "stream",
          "text": [
            "313/313 - 0s - loss: 0.0780 - accuracy: 0.9774\n"
          ],
          "name": "stdout"
        },
        {
          "output_type": "execute_result",
          "data": {
            "text/plain": [
              "[0.07802385836839676, 0.977400004863739]"
            ]
          },
          "metadata": {
            "tags": []
          },
          "execution_count": 22
        }
      ]
    },
    {
      "cell_type": "code",
      "metadata": {
        "id": "ppJObh3xt3wp"
      },
      "source": [
        ""
      ],
      "execution_count": null,
      "outputs": []
    }
  ]
}